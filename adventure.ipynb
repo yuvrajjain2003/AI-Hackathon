{
 "cells": [
  {
   "cell_type": "markdown",
   "metadata": {},
   "source": [
    "## Text-Based Adventure Game\n",
    "\n",
    "This is a small demo I made in 15 minutes to test out how a text-based game will work. There are definitely things that need to be addressed with the way it is currently set up. The biggest thing being a way of somehow maintaing context."
   ]
  },
  {
   "cell_type": "code",
   "execution_count": 2,
   "metadata": {},
   "outputs": [
    {
     "name": "stderr",
     "output_type": "stream",
     "text": [
      "Truncation was not explicitly activated but `max_length` is provided a specific value, please use `truncation=True` to explicitly truncate examples to max length. Defaulting to 'longest_first' truncation strategy. If you encode pairs of sequences (GLUE-style) with the tokenizer you can select this strategy more precisely by providing a specific strategy to `truncation`.\n",
      "Setting `pad_token_id` to `eos_token_id`:50256 for open-end generation.\n"
     ]
    },
    {
     "name": "stdout",
     "output_type": "stream",
     "text": [
      "The hero enters the dark forest. He looks down upon some of the elves, and notices that he is at the bottom of the cave, where a large cavern called the Mardvaldel is. The hero takes his torch and takes into consideration the many creatures around him. As he watches, he sees many small creatures approaching from all directions. Each small creature has something to say about the other. The hero turns to look at the two monsters that are making their way through the cavern. The\n"
     ]
    }
   ],
   "source": [
    "from transformers import pipeline\n",
    "\n",
    "generator = pipeline('text-generation', model='openai-community/gpt2')  \n",
    "\n",
    "# Generate a story snippet based on user choice\n",
    "user_input = \"The hero enters the dark forest.\"\n",
    "response = generator(user_input, max_length=100, num_return_sequences=1)\n",
    "\n",
    "print(response[0]['generated_text'])"
   ]
  },
  {
   "cell_type": "code",
   "execution_count": 5,
   "metadata": {},
   "outputs": [],
   "source": [
    "def generate_response(user_input: str):\n",
    "    return generator(user_input, max_length=50, num_return_sequences=1)[0]['generated_text']"
   ]
  },
  {
   "cell_type": "code",
   "execution_count": 9,
   "metadata": {},
   "outputs": [
    {
     "name": "stdout",
     "output_type": "stream",
     "text": [
      "Welcome to the adventure! Type 'quit' to exit.\n"
     ]
    },
    {
     "name": "stderr",
     "output_type": "stream",
     "text": [
      "Setting `pad_token_id` to `eos_token_id`:50256 for open-end generation.\n"
     ]
    },
    {
     "name": "stdout",
     "output_type": "stream",
     "text": [
      "Response: I enter the forest with my backpack. I find it in a small clearing on the right. There is a small patch in the middle and the bush is covered with snow.\n",
      "\n",
      "I sit down and the fire drips down. The thick leaves\n"
     ]
    },
    {
     "name": "stderr",
     "output_type": "stream",
     "text": [
      "Setting `pad_token_id` to `eos_token_id`:50256 for open-end generation.\n"
     ]
    },
    {
     "name": "stdout",
     "output_type": "stream",
     "text": [
      "Response: I head towards the bush covered with snow. When there is snow in the distance, I turn my back to the car. \"I am on my way, right here and here... there's a whole truck of snow. I got hit by a\n",
      "Exiting the adventure. Goodbye!\n"
     ]
    }
   ],
   "source": [
    "print(\"Welcome to the adventure! Type 'quit' to exit.\")\n",
    "\n",
    "while True:\n",
    "    user_input = input(\"What do you do? \")\n",
    "    if user_input.lower() == 'quit':\n",
    "        print(\"Exiting the adventure. Goodbye!\")\n",
    "        break\n",
    "    story_response = generate_response(user_input)\n",
    "    print(\"Response:\", story_response)"
   ]
  },
  {
   "cell_type": "markdown",
   "metadata": {},
   "source": [
    "Hmm looks like GPT is hallucinating here. Need some way of maintaining context between interactions and keeping it focused on the story. Here is possibly some things I considered:\n",
    "\n",
    "- Limit Scope of Each Iteration & Trim older parts that are not useful\n",
    "- Maybe include a summary of the events that have happened so far and include that as part of the prompt for generating the next part of the story?\n",
    "- Finetuning the attention mask?\n",
    "- Some way of making checkpoints? What happens in the long run?"
   ]
  },
  {
   "cell_type": "markdown",
   "metadata": {},
   "source": []
  }
 ],
 "metadata": {
  "kernelspec": {
   "display_name": ".venv",
   "language": "python",
   "name": "python3"
  },
  "language_info": {
   "codemirror_mode": {
    "name": "ipython",
    "version": 3
   },
   "file_extension": ".py",
   "mimetype": "text/x-python",
   "name": "python",
   "nbconvert_exporter": "python",
   "pygments_lexer": "ipython3",
   "version": "3.11.4"
  }
 },
 "nbformat": 4,
 "nbformat_minor": 2
}
